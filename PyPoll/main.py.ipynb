{
 "cells": [
  {
   "cell_type": "code",
   "execution_count": 1,
   "metadata": {},
   "outputs": [],
   "source": [
    "#import os module creating file paths across operating systems\n",
    "import os\n",
    "\n",
    "#import the reader module to read csv files\n",
    "import csv\n",
    "\n",
    "#path to csv file 'pypoll.csv'\n",
    "poll_csvpath = os.path.join('Resources/pypoll.csv')\n",
    "\n",
    "#path for Final Poll Analysis\n",
    "output_path = os.path.join('Analysis/pypoll_analysis.txt')"
   ]
  },
  {
   "cell_type": "code",
   "execution_count": 2,
   "metadata": {},
   "outputs": [],
   "source": [
    "#create Lists and Counters\n",
    "poll_list = []\n",
    "candidate_names = []\n",
    "candidate_votes = []\n",
    "candidate_percents = []\n",
    "winner_count = 0"
   ]
  },
  {
   "cell_type": "code",
   "execution_count": 3,
   "metadata": {},
   "outputs": [
    {
     "name": "stdout",
     "output_type": "stream",
     "text": [
      "['Khan', 'Correy', 'Li', \"O'Tooley\"]\n"
     ]
    }
   ],
   "source": [
    "#open and read csv file 'pubank.csv'\n",
    "with open(poll_csvpath, encoding='utf-8') as csvfile:\n",
    "    pollfile = csv.reader(csvfile, delimiter=\",\")\n",
    "    pollfile_header = next(pollfile)\n",
    "    \n",
    "    #count Total Votes\n",
    "    for row in pollfile:\n",
    "        poll_list.append(row[2])\n",
    "        total_votes = len(poll_list)\n",
    "    \n",
    "    #Create a list of candidate names\n",
    "    for name in poll_list:\n",
    "        if name not in candidate_names:\n",
    "            candidate_names.append(name)\n",
    "    print(candidate_names)"
   ]
  },
  {
   "cell_type": "code",
   "execution_count": 4,
   "metadata": {},
   "outputs": [],
   "source": [
    "    #Counters for each candidate\n",
    "    khan_count = 0\n",
    "    correy_count = 0\n",
    "    li_count = 0\n",
    "    tooley_count = 0\n",
    "    \n",
    "    for name in poll_list:\n",
    "        if name == 'Khan':\n",
    "            khan_count = khan_count +1\n",
    "        elif name == 'Correy':\n",
    "            correy_count = correy_count +1\n",
    "        elif name == 'Li':\n",
    "            li_count = li_count +1\n",
    "        elif name == \"O'Tooley\":\n",
    "            tooley_count = tooley_count +1  "
   ]
  },
  {
   "cell_type": "code",
   "execution_count": 5,
   "metadata": {},
   "outputs": [],
   "source": [
    "    #Percentage of votes for each candidate\n",
    "    khan_percent = \"{:.2%}\".format(khan_count / total_votes)\n",
    "    correy_percent = \"{:.2%}\".format(correy_count / total_votes)\n",
    "    li_percent = \"{:.2%}\".format(li_count / total_votes)\n",
    "    tooley_percent = \"{:.2%}\".format(tooley_count / total_votes)"
   ]
  },
  {
   "cell_type": "code",
   "execution_count": 6,
   "metadata": {},
   "outputs": [],
   "source": [
    "    #Append results of total votes for each candidate\n",
    "    candidate_votes.append(khan_count)\n",
    "    candidate_votes.append(correy_count)\n",
    "    candidate_votes.append(li_count)\n",
    "    candidate_votes.append(tooley_count)\n",
    "    #percentage of votes for each candidate into respective lists\n",
    "    candidate_percents.append(khan_percent)\n",
    "    candidate_percents.append(correy_percent)\n",
    "    candidate_percents.append(li_percent)\n",
    "    candidate_percents.append(tooley_percent)"
   ]
  },
  {
   "cell_type": "code",
   "execution_count": 7,
   "metadata": {},
   "outputs": [],
   "source": [
    "    #create a dictionary for \"candidate\":candidate_count\n",
    "    summary_votes = {\"Khan\":khan_count,\n",
    "                   \"Correy\":correy_count,\n",
    "                   \"Li\":li_count,\n",
    "                   \"O'Tooley\":tooley_count}\n",
    "    \n",
    "    for x, y in summary_votes.items():\n",
    "        if y > winner_count:\n",
    "            winner_count = y\n",
    "            election_winner = x"
   ]
  },
  {
   "cell_type": "code",
   "execution_count": 8,
   "metadata": {},
   "outputs": [],
   "source": [
    "    #create a Text File of Final Poll Analysis located in 'Analysis' Folder\n",
    "    with open(output_path, 'w', newline='') as csvfile:\n",
    "    \n",
    "        csvwriter = csv.writer(csvfile, delimiter=',')\n",
    "    \n",
    "        csvwriter.writerow([\"Election Results\"])\n",
    "        csvwriter.writerow([\"----------\"])\n",
    "        csvwriter.writerow([f'Total Votes: {total_votes}'])\n",
    "        csvwriter.writerow([f'------'])\n",
    "        csvwriter.writerow([f'Khan: {khan_percent} ({khan_count})'])\n",
    "        csvwriter.writerow([f'Correy: {correy_percent} ({correy_count})'])\n",
    "        csvwriter.writerow([f'Li: {li_percent} ({li_count})'])\n",
    "        csvwriter.writerow([f\"O'Tooley: {tooley_percent} ({tooley_count})\"])\n",
    "        csvwriter.writerow([f'------'])\n",
    "        csvwriter.writerow([f'Winner: {election_winner}'])"
   ]
  },
  {
   "cell_type": "code",
   "execution_count": 9,
   "metadata": {},
   "outputs": [
    {
     "name": "stdout",
     "output_type": "stream",
     "text": [
      "Election Results\n",
      "------\n",
      "Total Votes: 3521001\n",
      "------\n",
      "Khan: 63.00% (2218231)\n",
      "Correy: 20.00% (704200)\n",
      "Li: 14.00% (492940)\n",
      "O'Tooley: 3.00% (105630)\n",
      "------\n",
      "Winner: Khan\n"
     ]
    }
   ],
   "source": [
    "    #print results\n",
    "    print(\"Election Results\")\n",
    "    print(f'------')\n",
    "    print(f'Total Votes: {total_votes}')\n",
    "    print(f'------')\n",
    "    print(f'Khan: {khan_percent} ({khan_count})')\n",
    "    print(f'Correy: {correy_percent} ({correy_count})')\n",
    "    print(f'Li: {li_percent} ({li_count})')\n",
    "    print(f\"O'Tooley: {tooley_percent} ({tooley_count})\")\n",
    "    print(f'------')\n",
    "    print(f'Winner: {election_winner}')"
   ]
  }
 ],
 "metadata": {
  "kernelspec": {
   "display_name": "Python 3",
   "language": "python",
   "name": "python3"
  },
  "language_info": {
   "codemirror_mode": {
    "name": "ipython",
    "version": 3
   },
   "file_extension": ".py",
   "mimetype": "text/x-python",
   "name": "python",
   "nbconvert_exporter": "python",
   "pygments_lexer": "ipython3",
   "version": "3.8.5"
  }
 },
 "nbformat": 4,
 "nbformat_minor": 4
}
