{
 "cells": [
  {
   "cell_type": "code",
   "execution_count": 1,
   "metadata": {},
   "outputs": [],
   "source": [
    "#import os module creating file paths across operating systems\n",
    "import os\n",
    "\n",
    "#import the reader module to read csv files\n",
    "import csv\n",
    "\n",
    "poll_csvpath = os.path.join('..','pypoll.csv')"
   ]
  },
  {
   "cell_type": "code",
   "execution_count": 2,
   "metadata": {},
   "outputs": [],
   "source": [
    "list_candidates = []\n",
    "winner_count = 0 "
   ]
  },
  {
   "cell_type": "code",
   "execution_count": 4,
   "metadata": {},
   "outputs": [
    {
     "name": "stdout",
     "output_type": "stream",
     "text": [
      "Khan\n",
      "Correy\n",
      "Li\n",
      "O'Tooley\n"
     ]
    }
   ],
   "source": [
    "with open(poll_csvpath, encoding='utf-8') as csvfile:\n",
    "    pollfile = csv.reader(csvfile, delimiter=\",\")\n",
    "    pollfile_header = next(pollfile)\n",
    "    \n",
    "    for row in pollfile:\n",
    "        list_candidates.append(row[2])\n",
    "        total_votes = len(list_candidates)\n",
    "    \n",
    "    def names(list_candidates):\n",
    "        candidate_names = []\n",
    "        for i in list_candidates:\n",
    "            if i not in candidate_names:\n",
    "                candidate_names.append(i)\n",
    "        for i in candidate_names:\n",
    "            print(i)\n",
    "    names(list_candidates)\n",
    "    \n",
    "        \n",
    "        \n",
    "                \n",
    "        "
   ]
  },
  {
   "cell_type": "code",
   "execution_count": null,
   "metadata": {},
   "outputs": [],
   "source": []
  }
 ],
 "metadata": {
  "kernelspec": {
   "display_name": "Python 3",
   "language": "python",
   "name": "python3"
  },
  "language_info": {
   "codemirror_mode": {
    "name": "ipython",
    "version": 3
   },
   "file_extension": ".py",
   "mimetype": "text/x-python",
   "name": "python",
   "nbconvert_exporter": "python",
   "pygments_lexer": "ipython3",
   "version": "3.8.5"
  }
 },
 "nbformat": 4,
 "nbformat_minor": 4
}
