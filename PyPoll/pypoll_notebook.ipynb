{
 "cells": [
  {
   "cell_type": "code",
   "execution_count": 1,
   "metadata": {},
   "outputs": [],
   "source": [
    "#import os module creating file paths across operating systems\n",
    "import os\n",
    "\n",
    "#import the reader module to read csv files\n",
    "import csv\n",
    "\n",
    "poll_csvpath = os.path.join('..','pypoll.csv')"
   ]
  },
  {
   "cell_type": "code",
   "execution_count": 2,
   "metadata": {},
   "outputs": [],
   "source": [
    "poll_list = []\n",
    "candidate_names = []\n",
    "candidate_votes = []\n",
    "candidate_percents = []\n",
    "summary_count = dict()\n"
   ]
  },
  {
   "cell_type": "code",
   "execution_count": 3,
   "metadata": {},
   "outputs": [],
   "source": [
    "with open(poll_csvpath, encoding='utf-8') as csvfile:\n",
    "    pollfile = csv.reader(csvfile, delimiter=\",\")\n",
    "    pollfile_header = next(pollfile)\n",
    "    \n",
    "    for row in pollfile:\n",
    "        poll_list.append(row[2])\n",
    "        total_votes = len(poll_list)\n",
    "    \n",
    "    #Create a list of candidate names\n",
    "    for name in poll_list:\n",
    "        if name not in candidate_names:\n",
    "            candidate_names.append(name)\n",
    "    ##print(candidate_names)"
   ]
  },
  {
   "cell_type": "code",
   "execution_count": 4,
   "metadata": {},
   "outputs": [],
   "source": [
    "    #Counters for each candidate\n",
    "    khan_count = 0\n",
    "    correy_count = 0\n",
    "    li_count = 0\n",
    "    tooley_count = 0\n",
    "    \n",
    "    for name in poll_list:\n",
    "        if name == 'Khan':\n",
    "            khan_count = khan_count +1\n",
    "        elif name == 'Correy':\n",
    "            correy_count = correy_count +1\n",
    "        elif name == 'Li':\n",
    "            li_count = li_count +1\n",
    "        elif name == \"O'Tooley\":\n",
    "            tooley_count = tooley_count +1\n",
    "    ##print(khan_count)      "
   ]
  },
  {
   "cell_type": "code",
   "execution_count": 5,
   "metadata": {},
   "outputs": [],
   "source": [
    "    #Percentage of votes for each candidate\n",
    "    khan_percent = \"{:.2%}\".format(khan_count / total_votes)\n",
    "    correy_percent = \"{:.2%}\".format(correy_count / total_votes)\n",
    "    li_percent = \"{:.2%}\".format(li_count / total_votes)\n",
    "    tooley_percent = \"{:.2%}\".format(tooley_count / total_votes)\n",
    "    ##print(khan_percent)"
   ]
  },
  {
   "cell_type": "code",
   "execution_count": 6,
   "metadata": {},
   "outputs": [
    {
     "name": "stdout",
     "output_type": "stream",
     "text": [
      "[2218231, 704200, 492940, 105630]\n",
      "['63.00%', '20.00%', '14.00%', '3.00%']\n"
     ]
    }
   ],
   "source": [
    "    #Append results of total votes for each candidate and percentage of votes for each candidate into respective lists\n",
    "    candidate_votes.append(khan_count)\n",
    "    candidate_votes.append(correy_count)\n",
    "    candidate_votes.append(li_count)\n",
    "    candidate_votes.append(tooley_count)\n",
    "    print(candidate_votes)\n",
    "    candidate_percents.append(khan_percent)\n",
    "    candidate_percents.append(correy_percent)\n",
    "    candidate_percents.append(li_percent)\n",
    "    candidate_percents.append(tooley_percent)\n",
    "    print(candidate_percents)"
   ]
  },
  {
   "cell_type": "code",
   "execution_count": null,
   "metadata": {},
   "outputs": [],
   "source": [
    "    #Create summary table of analysis\n",
    "    summary_count = {'Candidates':candidate_names,\n",
    "                 'Total Votes': total_votes,\n",
    "                    }\n",
    "    summary_count"
   ]
  }
 ],
 "metadata": {
  "kernelspec": {
   "display_name": "Python 3",
   "language": "python",
   "name": "python3"
  },
  "language_info": {
   "codemirror_mode": {
    "name": "ipython",
    "version": 3
   },
   "file_extension": ".py",
   "mimetype": "text/x-python",
   "name": "python",
   "nbconvert_exporter": "python",
   "pygments_lexer": "ipython3",
   "version": "3.8.5"
  }
 },
 "nbformat": 4,
 "nbformat_minor": 4
}
