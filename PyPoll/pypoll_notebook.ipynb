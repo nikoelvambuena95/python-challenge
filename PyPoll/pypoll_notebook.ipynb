{
 "cells": [
  {
   "cell_type": "code",
   "execution_count": null,
   "metadata": {},
   "outputs": [],
   "source": [
    "#import os module creating file paths across operating systems\n",
    "import os\n",
    "\n",
    "#import the reader module to read csv files\n",
    "import csv\n",
    "\n",
    "poll_csvpath = os.path.join('..','pypoll.csv')"
   ]
  },
  {
   "cell_type": "code",
   "execution_count": null,
   "metadata": {},
   "outputs": [],
   "source": [
    "list_votes = []\n",
    "list_candidates = []\n",
    "winner_count = 0 "
   ]
  },
  {
   "cell_type": "code",
   "execution_count": null,
   "metadata": {},
   "outputs": [],
   "source": [
    "with open(poll_csvpath, encoding='utf-8') as csvfile:\n",
    "    pollfile = csv.reader(csvfile, delimiter=\",\")\n",
    "    pollfile_header = next(pollfile)\n",
    "    \n",
    "    for row in pollfile:\n",
    "        list_votes.append(row[0])\n",
    "        list_candidates.append(row[2])\n",
    "        \n",
    "        for i in range(len(list_candidates)):\n",
    "            if list_candidate[i] = list_candidate[i]:\n",
    "                \n",
    "        "
   ]
  },
  {
   "cell_type": "code",
   "execution_count": null,
   "metadata": {},
   "outputs": [],
   "source": []
  }
 ],
 "metadata": {
  "kernelspec": {
   "display_name": "Python 3",
   "language": "python",
   "name": "python3"
  },
  "language_info": {
   "codemirror_mode": {
    "name": "ipython",
    "version": 3
   },
   "file_extension": ".py",
   "mimetype": "text/x-python",
   "name": "python",
   "nbconvert_exporter": "python",
   "pygments_lexer": "ipython3",
   "version": "3.8.5"
  }
 },
 "nbformat": 4,
 "nbformat_minor": 4
}
