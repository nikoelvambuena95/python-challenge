{
 "cells": [
  {
   "cell_type": "code",
   "execution_count": 1,
   "metadata": {},
   "outputs": [],
   "source": [
    "#import os module creating file paths across operating systems\n",
    "import os\n",
    "\n",
    "#import the reader module to read csv files\n",
    "import csv\n",
    "\n",
    "import statistics\n",
    "\n",
    "bank_csvpath = os.path.join('..','pybank.csv')\n",
    "\n",
    "output_path = os.path.join('..', 'pybank_analysis.csv')"
   ]
  },
  {
   "cell_type": "code",
   "execution_count": 2,
   "metadata": {},
   "outputs": [],
   "source": [
    "month = []\n",
    "profitloss = []\n",
    "pl_increase = 0\n",
    "pl_decrease = 0\n",
    "total_change = []"
   ]
  },
  {
   "cell_type": "code",
   "execution_count": 3,
   "metadata": {
    "scrolled": false
   },
   "outputs": [],
   "source": [
    "with open(bank_csvpath, encoding='utf-8') as csvfile:\n",
    "    bankfile = csv.reader(csvfile, delimiter =\",\")\n",
    "    bankfile_header = next(bankfile)\n",
    "   \n",
    "\n",
    " \n",
    "    for row in bankfile:\n",
    "        month.append(row[0])\n",
    "        profitloss.append(int(row[1]))\n",
    "    for x in range(len(profitloss)):\n",
    "        pl_change = profitloss[x] - profitloss[x-1]\n",
    "        total_change.append(pl_change)\n",
    "        if pl_change > pl_increase:\n",
    "            pl_increase = pl_change\n",
    "            pl_increase_date = month[x]\n",
    "        elif pl_change < pl_decrease:\n",
    "            pl_decrease = pl_change\n",
    "            pl_decrease_date = month[x]\n",
    "    total_profitloss = sum(profitloss)\n",
    "    total_change.pop(0)\n",
    "    avgchange_profitloss = sum(total_change)/len(total_change)"
   ]
  },
  {
   "cell_type": "code",
   "execution_count": 4,
   "metadata": {},
   "outputs": [
    {
     "name": "stdout",
     "output_type": "stream",
     "text": [
      "Financial Analysis\n",
      "----------\n",
      "Total Months: 86\n",
      "Total: $38,382,578.00\n",
      "Average Change: $-2,315.12\n",
      "Greatest Increase in Profits: $1,926,159.00 on Feb-2012\n",
      "Greatest Decrease in Profits: $-2,196,167.00 on Sep-2013\n"
     ]
    }
   ],
   "source": [
    "        print('Financial Analysis')\n",
    "        print(\"----------\")\n",
    "        print(f\"Total Months: {len(month)}\")\n",
    "        print(f\"Total: {'${:,.2f}'.format(total_profitloss)}\")\n",
    "        print(f\"Average Change: {'${:,.2f}'.format(avgchange_profitloss)}\")\n",
    "        print(f\"Greatest Increase in Profits: {'${:,.2f}'.format(pl_increase)} on {pl_increase_date}\")\n",
    "        print(f\"Greatest Decrease in Profits: {'${:,.2f}'.format(pl_decrease)} on {pl_decrease_date}\")"
   ]
  },
  {
   "cell_type": "code",
   "execution_count": 5,
   "metadata": {},
   "outputs": [],
   "source": [
    "   with open(output_path, 'w', newline='') as csvfile:\n",
    "    \n",
    "        csvwriter = csv.writer(csvfile, delimiter=',')\n",
    "    \n",
    "        csvwriter.writerow(['Financial Analysis'])\n",
    "        csvwriter.writerow(['----------'])\n",
    "        csvwriter.writerow([f'Total Months: {len(month)}'])\n",
    "        csvwriter.writerow([f'Total: {\"${:,.2f}\".format(total_profitloss)}'])\n",
    "        csvwriter.writerow([f'Average Change: {\"${:,.2f}\".format(avgchange_profitloss)}'])\n",
    "        csvwriter.writerow([f'Greatest Increase in Profits: {\"${:,.2f}\".format(pl_increase)} on {pl_increase_date}'])\n",
    "        csvwriter.writerow([f'Greatest Decrease in Profits: {\"${:,.2f}\".format(pl_decrease)} on {pl_decrease_date}'])"
   ]
  }
 ],
 "metadata": {
  "kernelspec": {
   "display_name": "Python 3",
   "language": "python",
   "name": "python3"
  },
  "language_info": {
   "codemirror_mode": {
    "name": "ipython",
    "version": 3
   },
   "file_extension": ".py",
   "mimetype": "text/x-python",
   "name": "python",
   "nbconvert_exporter": "python",
   "pygments_lexer": "ipython3",
   "version": "3.8.5"
  }
 },
 "nbformat": 4,
 "nbformat_minor": 4
}
