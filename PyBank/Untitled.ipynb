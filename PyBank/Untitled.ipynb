{
 "cells": [
  {
   "cell_type": "code",
   "execution_count": 9,
   "metadata": {},
   "outputs": [],
   "source": [
    "#import os module creating file paths across operating systems\n",
    "import os\n",
    "\n",
    "#import the reader module to read csv files\n",
    "import csv\n",
    "\n",
    "bank_csvpath = os.path.join('..','pybank.csv')"
   ]
  },
  {
   "cell_type": "code",
   "execution_count": 10,
   "metadata": {},
   "outputs": [],
   "source": [
    "#def budget_analysis(bankfile):\n",
    "    #month = str(bankfile[0])\n",
    "    #profitloss = int(bankfile[1])\n",
    "    \n",
    "    #total_profitloss = sum(profitloss)\n",
    "    \n",
    "    #print(\"Financial Analysis\")\n",
    "    #print(f\"Total: {total_profitloss}\")\n",
    "    #print(f\"Average Change: {average_profitloss}\")\n",
    "    #print(f\"Greatest Increase in Profits: {greatest_inc_profitloss}\")\n",
    "    #print(f\"Greatest Decrease in Profits: {greatest_dec_profitloss}\")"
   ]
  },
  {
   "cell_type": "code",
   "execution_count": 11,
   "metadata": {},
   "outputs": [],
   "source": [
    "month = []\n",
    "profitloss = []\n",
    "pl_increase = 0\n",
    "pl_decrease = 0"
   ]
  },
  {
   "cell_type": "code",
   "execution_count": 12,
   "metadata": {},
   "outputs": [
    {
     "ename": "TypeError",
     "evalue": "list indices must be integers or slices, not str",
     "output_type": "error",
     "traceback": [
      "\u001b[1;31m---------------------------------------------------------------------------\u001b[0m",
      "\u001b[1;31mTypeError\u001b[0m                                 Traceback (most recent call last)",
      "\u001b[1;32m<ipython-input-12-70cb11f1a8df>\u001b[0m in \u001b[0;36m<module>\u001b[1;34m\u001b[0m\n\u001b[0;32m      7\u001b[0m        \u001b[0mprofitloss\u001b[0m\u001b[1;33m.\u001b[0m\u001b[0mappend\u001b[0m\u001b[1;33m(\u001b[0m\u001b[0mint\u001b[0m\u001b[1;33m(\u001b[0m\u001b[0mrow\u001b[0m\u001b[1;33m[\u001b[0m\u001b[1;36m1\u001b[0m\u001b[1;33m]\u001b[0m\u001b[1;33m)\u001b[0m\u001b[1;33m)\u001b[0m\u001b[1;33m\u001b[0m\u001b[1;33m\u001b[0m\u001b[0m\n\u001b[0;32m      8\u001b[0m        \u001b[1;32mfor\u001b[0m \u001b[0mn\u001b[0m \u001b[1;32min\u001b[0m \u001b[0mrow\u001b[0m\u001b[1;33m:\u001b[0m\u001b[1;33m\u001b[0m\u001b[1;33m\u001b[0m\u001b[0m\n\u001b[1;32m----> 9\u001b[1;33m            \u001b[0mpl_change\u001b[0m \u001b[1;33m=\u001b[0m \u001b[0mprofitloss\u001b[0m\u001b[1;33m[\u001b[0m\u001b[0mn\u001b[0m\u001b[1;33m]\u001b[0m \u001b[1;33m-\u001b[0m \u001b[0mprofitloss\u001b[0m\u001b[1;33m[\u001b[0m\u001b[0mn\u001b[0m \u001b[1;33m-\u001b[0m \u001b[1;36m1\u001b[0m\u001b[1;33m]\u001b[0m\u001b[1;33m\u001b[0m\u001b[1;33m\u001b[0m\u001b[0m\n\u001b[0m\u001b[0;32m     10\u001b[0m            \u001b[1;32mif\u001b[0m \u001b[0mpl_change\u001b[0m \u001b[1;33m>\u001b[0m \u001b[0mpl_inc\u001b[0m\u001b[1;33m:\u001b[0m\u001b[1;33m\u001b[0m\u001b[1;33m\u001b[0m\u001b[0m\n\u001b[0;32m     11\u001b[0m                \u001b[0mpl_increase\u001b[0m \u001b[1;33m=\u001b[0m \u001b[0mpl_change\u001b[0m\u001b[1;33m\u001b[0m\u001b[1;33m\u001b[0m\u001b[0m\n",
      "\u001b[1;31mTypeError\u001b[0m: list indices must be integers or slices, not str"
     ]
    }
   ],
   "source": [
    " with open(bank_csvpath, encoding='utf-8') as csvfile:\n",
    "    bankfile = csv.reader(csvfile)\n",
    "    bankfile_header = next(bankfile)\n",
    "    \n",
    "    for n in row:\n",
    "        pl_change = profitloss[n] - profitloss[n - 1]    \n",
    "        if pl_change > pl_inc:\n",
    "                pl_increase = pl_change\n",
    "            elif pl_change < pl_dec:\n",
    "                pl_decrease = pl_change    \n",
    "    \n",
    "    for row in bankfile:\n",
    "        month.append(row[0])\n",
    "        profitloss.append(int(row[1]))  \n",
    "    total_profitloss = sum(profitloss)\n",
    "    print(len(month))\n",
    "    print(total_profitloss)\n",
    "    print(pl_increase)\n",
    "    print(pl_decrease)"
   ]
  },
  {
   "cell_type": "code",
   "execution_count": null,
   "metadata": {},
   "outputs": [],
   "source": []
  }
 ],
 "metadata": {
  "kernelspec": {
   "display_name": "Python 3",
   "language": "python",
   "name": "python3"
  },
  "language_info": {
   "codemirror_mode": {
    "name": "ipython",
    "version": 3
   },
   "file_extension": ".py",
   "mimetype": "text/x-python",
   "name": "python",
   "nbconvert_exporter": "python",
   "pygments_lexer": "ipython3",
   "version": "3.8.5"
  }
 },
 "nbformat": 4,
 "nbformat_minor": 4
}
