{
 "cells": [
  {
   "cell_type": "code",
   "execution_count": 41,
   "metadata": {},
   "outputs": [],
   "source": [
    "#import os module creating file paths across operating systems\n",
    "import os\n",
    "\n",
    "#import the reader module to read csv files\n",
    "import csv\n",
    "\n",
    "bank_csvpath = os.path.join('..','pybank.csv')"
   ]
  },
  {
   "cell_type": "code",
   "execution_count": 66,
   "metadata": {},
   "outputs": [],
   "source": [
    "with open(bank_csvpath, newline ='', encoding='utf-8') as csvfile:\n",
    "    bankfile = csv.reader(csvfile, delimiter=',')\n",
    "    bankfile_header = next(bankfile)\n",
    "    \n",
    "    for row in bankfile:\n",
    "        months = str(row[0])\n",
    "        \n",
    "        profit_loss = int(row[1])\n",
    "        "
   ]
  },
  {
   "cell_type": "code",
   "execution_count": null,
   "metadata": {},
   "outputs": [],
   "source": []
  }
 ],
 "metadata": {
  "kernelspec": {
   "display_name": "Python 3",
   "language": "python",
   "name": "python3"
  },
  "language_info": {
   "codemirror_mode": {
    "name": "ipython",
    "version": 3
   },
   "file_extension": ".py",
   "mimetype": "text/x-python",
   "name": "python",
   "nbconvert_exporter": "python",
   "pygments_lexer": "ipython3",
   "version": "3.8.5"
  }
 },
 "nbformat": 4,
 "nbformat_minor": 4
}
