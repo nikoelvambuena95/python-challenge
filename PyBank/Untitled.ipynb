{
 "cells": [
  {
   "cell_type": "code",
   "execution_count": null,
   "metadata": {},
   "outputs": [],
   "source": [
    "#import os module creating file paths across operating systems\n",
    "import os\n",
    "\n",
    "#import the reader module to read csv files\n",
    "import csv\n",
    "\n",
    "bank_csvpath = os.path.join('..','pybank.csv')"
   ]
  },
  {
   "cell_type": "code",
   "execution_count": null,
   "metadata": {},
   "outputs": [],
   "source": [
    "month = []\n",
    "profitloss = []\n",
    "pl_increase = 0\n",
    "pl_decrease = 0"
   ]
  },
  {
   "cell_type": "code",
   "execution_count": null,
   "metadata": {},
   "outputs": [],
   "source": [
    " with open(bank_csvpath, encoding='utf-8') as csvfile:\n",
    "    bankfile = csv.reader(csvfile)\n",
    "    bankfile_header = next(bankfile)\n",
    "    \n",
    "    for row in bankfile:\n",
    "        month.append(row[0])\n",
    "        profitloss.append(int(row[1]))\n",
    "    for x in range(len(profitloss)):\n",
    "        pl_change = profitloss[x] - profitloss[x-1]\n",
    "        if pl_change > pl_increase:\n",
    "            pl_increase = pl_change\n",
    "            pl_increase_date = month[x]\n",
    "        elif pl_change < pl_decrease:\n",
    "            pl_decrease = pl_change\n",
    "            pl_decrease_date = month[x]\n",
    "    total_profitloss = sum(profitloss)\n",
    "    print(len(month))\n",
    "    print(total_profitloss)\n",
    "    print(pl_increase)\n",
    "    print(pl_decrease)"
   ]
  },
  {
   "cell_type": "code",
   "execution_count": null,
   "metadata": {},
   "outputs": [],
   "source": [
    "print(\"Financial Analysis\")\n",
    "print(\"----------\")\n",
    "print(f\"Total Months: {len(month)}\")\n",
    "print(f\"Total: {total_profitloss}\")\n",
    "print(f\"Average Change: {pl_change/len(profitloss)}\")\n",
    "print(f\"Greatest Increase in Profits: {pl_increase} on {pl_increase_date}\")\n",
    "print(f\"Greatest Decrease in Profits: {pl_decrease} on {pl_decrease_date}\")"
   ]
  },
  {
   "cell_type": "code",
   "execution_count": null,
   "metadata": {},
   "outputs": [],
   "source": []
  }
 ],
 "metadata": {
  "kernelspec": {
   "display_name": "Python 3",
   "language": "python",
   "name": "python3"
  },
  "language_info": {
   "codemirror_mode": {
    "name": "ipython",
    "version": 3
   },
   "file_extension": ".py",
   "mimetype": "text/x-python",
   "name": "python",
   "nbconvert_exporter": "python",
   "pygments_lexer": "ipython3",
   "version": "3.8.5"
  }
 },
 "nbformat": 4,
 "nbformat_minor": 4
}
