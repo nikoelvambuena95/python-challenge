{
 "cells": [
  {
   "cell_type": "code",
   "execution_count": 1,
   "metadata": {},
   "outputs": [],
   "source": [
    "#import os module creating file paths across operating systems\n",
    "import os\n",
    "\n",
    "#import the reader module to read csv files\n",
    "import csv\n",
    "\n",
    "bank_csvpath = os.path.join('..','pybank.csv')"
   ]
  },
  {
   "cell_type": "code",
   "execution_count": 2,
   "metadata": {},
   "outputs": [],
   "source": [
    "#def budget_analysis(bankfile):\n",
    "    #month = str(bankfile[0])\n",
    "    #profitloss = int(bankfile[1])\n",
    "    \n",
    "    #total_profitloss = sum(profitloss)\n",
    "    \n",
    "    #print(\"Financial Analysis\")\n",
    "    #print(f\"Total: {total_profitloss}\")\n",
    "    #print(f\"Average Change: {average_profitloss}\")\n",
    "    #print(f\"Greatest Increase in Profits: {greatest_inc_profitloss}\")\n",
    "    #print(f\"Greatest Decrease in Profits: {greatest_dec_profitloss}\")"
   ]
  },
  {
   "cell_type": "code",
   "execution_count": 3,
   "metadata": {},
   "outputs": [],
   "source": [
    "month = []\n",
    "profitloss = []"
   ]
  },
  {
   "cell_type": "code",
   "execution_count": 4,
   "metadata": {},
   "outputs": [
    {
     "name": "stdout",
     "output_type": "stream",
     "text": [
      "38382578\n",
      "1170593\n",
      "-1196225\n"
     ]
    }
   ],
   "source": [
    " with open(bank_csvpath, encoding='utf-8') as csvfile:\n",
    "    bankfile = csv.reader(csvfile)\n",
    "    bankfile_header = next(bankfile)\n",
    "    \n",
    "    for row in bankfile:\n",
    "        month.append(row[0])\n",
    "        profitloss.append(int(row[1]))\n",
    "    total_profitloss = sum(profitloss)\n",
    "    print(total_profitloss)\n",
    "    #average_profitloss = mean(profitloss)\n",
    "    greatest_inc_profitloss = max(profitloss)\n",
    "    \n",
    "    greatest_dec_profitloss = min(profitloss)\n",
    "    print(greatest_dec_profitloss)"
   ]
  },
  {
   "cell_type": "code",
   "execution_count": null,
   "metadata": {},
   "outputs": [],
   "source": []
  },
  {
   "cell_type": "code",
   "execution_count": null,
   "metadata": {},
   "outputs": [],
   "source": []
  }
 ],
 "metadata": {
  "kernelspec": {
   "display_name": "Python 3",
   "language": "python",
   "name": "python3"
  },
  "language_info": {
   "codemirror_mode": {
    "name": "ipython",
    "version": 3
   },
   "file_extension": ".py",
   "mimetype": "text/x-python",
   "name": "python",
   "nbconvert_exporter": "python",
   "pygments_lexer": "ipython3",
   "version": "3.8.5"
  }
 },
 "nbformat": 4,
 "nbformat_minor": 4
}
